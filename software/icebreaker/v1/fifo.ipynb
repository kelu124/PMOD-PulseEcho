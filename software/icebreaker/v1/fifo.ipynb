{
 "cells": [
  {
   "cell_type": "code",
   "execution_count": 13,
   "id": "c7981931",
   "metadata": {},
   "outputs": [
    {
     "data": {
      "text/plain": [
       "'echo -n 2-1:1.1 | sudo tee /sys/bus/usb/drivers/ftdi_sio/unbind'"
      ]
     },
     "execution_count": 13,
     "metadata": {},
     "output_type": "execute_result"
    }
   ],
   "source": [
    "# Successfully installed ftd2xx-1.3.5 install-1.3.5 --> worked\n",
    "# Then issue with libftd2xx.so: cannot open shared object file: No such file or directory\n",
    "\n",
    "\"\"\"/:  Bus 02.Port 1: Dev 1, Class=root_hub, Driver=xhci_hcd/11p, 480M\n",
    "    |__ Port 1: Dev 2, If 0, Class=Vendor Specific Class, Driver=ftdi_sio, 480M\n",
    "    |__ Port 1: Dev 2, If 1, Class=Vendor Specific Class, Driver=ftdi_sio, 480M\"\"\"\n",
    "\n",
    "\"\"\"echo -n 2-1:1.0 | sudo tee /sys/bus/usb/drivers/ftdi_sio/unbind\"\"\"\n",
    "\"\"\"echo -n 2-1:1.1 | sudo tee /sys/bus/usb/drivers/ftdi_sio/unbind\"\"\""
   ]
  },
  {
   "cell_type": "code",
   "execution_count": 14,
   "id": "c0295aa7",
   "metadata": {},
   "outputs": [],
   "source": [
    "import sys\n",
    "import random\n",
    "from time import sleep\n",
    "BLOCK_LEN = 512"
   ]
  },
  {
   "cell_type": "code",
   "execution_count": 15,
   "id": "283247eb",
   "metadata": {},
   "outputs": [
    {
     "data": {
      "text/plain": [
       "[b'ibIeBkI8A', b'ibIeBkI8B']"
      ]
     },
     "execution_count": 15,
     "metadata": {},
     "output_type": "execute_result"
    }
   ],
   "source": [
    "import ftd2xx as ft\n",
    "devs = ft.listDevices()\n",
    "devs"
   ]
  },
  {
   "cell_type": "code",
   "execution_count": 16,
   "id": "7bcfd33f",
   "metadata": {},
   "outputs": [
    {
     "name": "stdout",
     "output_type": "stream",
     "text": [
      "{'index': 0, 'flags': 1, 'type': 3, 'id': 0, 'location': 0, 'serial': b'', 'description': b'', 'handle': <ftd2xx._ftd2xx_linux.LP_c_ulong object at 0x7f4f0b414d40>}\n",
      "{'index': 1, 'flags': 2, 'type': 6, 'id': 67330064, 'location': 8482, 'serial': b'ibIeBkI8B', 'description': b'iCEBreaker V1.0e B', 'handle': <ftd2xx._ftd2xx_linux.LP_c_ulong object at 0x7f4f0b414640>}\n"
     ]
    }
   ],
   "source": [
    "n = ft.createDeviceInfoList()\n",
    "\n",
    "for index in range(0, n):\n",
    "    device_info = ft.getDeviceInfoDetail(devnum = index, update = False)\n",
    "    print(device_info)"
   ]
  },
  {
   "cell_type": "code",
   "execution_count": 17,
   "id": "37dc245c",
   "metadata": {},
   "outputs": [],
   "source": [
    " d = ft.open(dev = 1)"
   ]
  },
  {
   "cell_type": "code",
   "execution_count": 18,
   "id": "64fa2986",
   "metadata": {},
   "outputs": [
    {
     "name": "stdout",
     "output_type": "stream",
     "text": [
      "{'type': 6, 'id': 67330064, 'description': b'iCEBreaker V1.0e B', 'serial': b'ibIeBkI8B'}\n"
     ]
    }
   ],
   "source": [
    "print(d.getDeviceInfo())\n",
    "d.setBitMode(0xFF, 0x00)               # Reset mode\n",
    "sleep(.01)"
   ]
  },
  {
   "cell_type": "code",
   "execution_count": 19,
   "id": "41b51fbd",
   "metadata": {},
   "outputs": [],
   "source": [
    "sleep(.01)\n",
    "d.setBitMode(0xFF,0x1)               # Sync FIFO mode - see https://www.ftdichip.com/Support/Knowledgebase/index.html?ft_setbitmode.htm\n",
    "sleep(.01)\n",
    "d.setLatencyTimer(2)                   # Receive buffer timeout in msec\n",
    "sleep(.01)\n",
    "d.setUSBParameters(512, 512)         # Set transfer in/out size to 4096\n",
    "sleep(.01)\n",
    "d.setFlowControl(ft.defines.FLOW_RTS_CTS, 0, 0)   # Flow control method\n",
    "sleep(.01)"
   ]
  },
  {
   "cell_type": "markdown",
   "id": "19248723",
   "metadata": {},
   "source": [
    "* I've implemented Async FIFO Loopback.\n",
    "* Write 0x7X - 1byte. (7:4 bits opcode = 7=LOOPBACK; 3:0 bits data)\n",
    "* Then read 1byte, written byte should come back."
   ]
  },
  {
   "cell_type": "code",
   "execution_count": 20,
   "id": "f199681f",
   "metadata": {},
   "outputs": [],
   "source": [
    "integer_val = 0x7A\n",
    "  \n",
    "# converting int to bytes with length  \n",
    "# of the array as 5 and byter order as  \n",
    "# little \n",
    "bytes_val = integer_val.to_bytes(1, 'big') "
   ]
  },
  {
   "cell_type": "code",
   "execution_count": 21,
   "id": "ccfa3015",
   "metadata": {},
   "outputs": [
    {
     "data": {
      "text/plain": [
       "b'z'"
      ]
     },
     "execution_count": 21,
     "metadata": {},
     "output_type": "execute_result"
    }
   ],
   "source": [
    "bytes_val"
   ]
  },
  {
   "cell_type": "code",
   "execution_count": 22,
   "id": "523b16f5",
   "metadata": {},
   "outputs": [
    {
     "name": "stdout",
     "output_type": "stream",
     "text": [
      "1\n"
     ]
    },
    {
     "data": {
      "text/plain": [
       "b'\\x00'"
      ]
     },
     "execution_count": 22,
     "metadata": {},
     "output_type": "execute_result"
    }
   ],
   "source": [
    "wr = d.write('z')\n",
    "print(wr)\n",
    "rx_data = d.read(1)\n",
    "rx_data"
   ]
  },
  {
   "cell_type": "code",
   "execution_count": 23,
   "id": "4d02e407",
   "metadata": {},
   "outputs": [],
   "source": [
    "d.close()"
   ]
  },
  {
   "cell_type": "code",
   "execution_count": 1,
   "id": "603b4f88",
   "metadata": {},
   "outputs": [],
   "source": [
    "import pyftdi.serialext"
   ]
  },
  {
   "cell_type": "code",
   "execution_count": 2,
   "id": "0105e374",
   "metadata": {},
   "outputs": [],
   "source": [
    "port = pyftdi.serialext.serial_for_url('ftdi://ftdi:2232h/0', baudrate=3000000)"
   ]
  },
  {
   "cell_type": "code",
   "execution_count": 3,
   "id": "21f81af3",
   "metadata": {},
   "outputs": [
    {
     "data": {
      "text/plain": [
       "1"
      ]
     },
     "execution_count": 3,
     "metadata": {},
     "output_type": "execute_result"
    }
   ],
   "source": [
    "port.write(b'z')"
   ]
  },
  {
   "cell_type": "code",
   "execution_count": 4,
   "id": "c165aaae",
   "metadata": {},
   "outputs": [
    {
     "ename": "KeyboardInterrupt",
     "evalue": "",
     "output_type": "error",
     "traceback": [
      "\u001b[0;31m---------------------------------------------------------------------------\u001b[0m",
      "\u001b[0;31mKeyboardInterrupt\u001b[0m                         Traceback (most recent call last)",
      "Cell \u001b[0;32mIn[4], line 1\u001b[0m\n\u001b[0;32m----> 1\u001b[0m data \u001b[38;5;241m=\u001b[39m \u001b[43mport\u001b[49m\u001b[38;5;241;43m.\u001b[39;49m\u001b[43mread\u001b[49m\u001b[43m(\u001b[49m\u001b[38;5;241;43m1\u001b[39;49m\u001b[43m)\u001b[49m\n\u001b[1;32m      2\u001b[0m data\n",
      "File \u001b[0;32m~/.local/lib/python3.10/site-packages/pyftdi/serialext/protocol_ftdi.py:58\u001b[0m, in \u001b[0;36mFtdiSerial.read\u001b[0;34m(self, size)\u001b[0m\n\u001b[1;32m     56\u001b[0m start \u001b[38;5;241m=\u001b[39m now()\n\u001b[1;32m     57\u001b[0m \u001b[38;5;28;01mwhile\u001b[39;00m \u001b[38;5;28;01mTrue\u001b[39;00m:\n\u001b[0;32m---> 58\u001b[0m     buf \u001b[38;5;241m=\u001b[39m \u001b[38;5;28;43mself\u001b[39;49m\u001b[38;5;241;43m.\u001b[39;49m\u001b[43mudev\u001b[49m\u001b[38;5;241;43m.\u001b[39;49m\u001b[43mread_data\u001b[49m\u001b[43m(\u001b[49m\u001b[43msize\u001b[49m\u001b[43m)\u001b[49m\n\u001b[1;32m     59\u001b[0m     data\u001b[38;5;241m.\u001b[39mextend(buf)\n\u001b[1;32m     60\u001b[0m     size \u001b[38;5;241m-\u001b[39m\u001b[38;5;241m=\u001b[39m \u001b[38;5;28mlen\u001b[39m(buf)\n",
      "File \u001b[0;32m~/.local/lib/python3.10/site-packages/pyftdi/ftdi.py:1927\u001b[0m, in \u001b[0;36mFtdi.read_data\u001b[0;34m(self, size)\u001b[0m\n\u001b[1;32m   1918\u001b[0m \u001b[38;5;28;01mdef\u001b[39;00m \u001b[38;5;21mread_data\u001b[39m(\u001b[38;5;28mself\u001b[39m, size: \u001b[38;5;28mint\u001b[39m) \u001b[38;5;241m-\u001b[39m\u001b[38;5;241m>\u001b[39m \u001b[38;5;28mbytes\u001b[39m:\n\u001b[1;32m   1919\u001b[0m     \u001b[38;5;124;03m\"\"\"Shortcut to received a bytes buffer instead of the array of bytes.\u001b[39;00m\n\u001b[1;32m   1920\u001b[0m \n\u001b[1;32m   1921\u001b[0m \u001b[38;5;124;03m       Note that output byte buffer may be shorted than the requested\u001b[39;00m\n\u001b[0;32m   (...)\u001b[0m\n\u001b[1;32m   1925\u001b[0m \u001b[38;5;124;03m       :return: payload bytes\u001b[39;00m\n\u001b[1;32m   1926\u001b[0m \u001b[38;5;124;03m    \"\"\"\u001b[39;00m\n\u001b[0;32m-> 1927\u001b[0m     \u001b[38;5;28;01mreturn\u001b[39;00m \u001b[38;5;28mbytes\u001b[39m(\u001b[38;5;28;43mself\u001b[39;49m\u001b[38;5;241;43m.\u001b[39;49m\u001b[43mread_data_bytes\u001b[49m\u001b[43m(\u001b[49m\u001b[43msize\u001b[49m\u001b[43m)\u001b[49m)\n",
      "File \u001b[0;32m~/.local/lib/python3.10/site-packages/pyftdi/ftdi.py:1845\u001b[0m, in \u001b[0;36mFtdi.read_data_bytes\u001b[0;34m(self, size, attempt, request_gen)\u001b[0m\n\u001b[1;32m   1843\u001b[0m \u001b[38;5;28;01mwhile\u001b[39;00m (\u001b[38;5;28mlen\u001b[39m(data) \u001b[38;5;241m<\u001b[39m size) \u001b[38;5;129;01mand\u001b[39;00m (length \u001b[38;5;241m>\u001b[39m \u001b[38;5;241m0\u001b[39m):\n\u001b[1;32m   1844\u001b[0m     \u001b[38;5;28;01mwhile\u001b[39;00m \u001b[38;5;28;01mTrue\u001b[39;00m:\n\u001b[0;32m-> 1845\u001b[0m         tempbuf \u001b[38;5;241m=\u001b[39m \u001b[38;5;28;43mself\u001b[39;49m\u001b[38;5;241;43m.\u001b[39;49m\u001b[43m_read\u001b[49m\u001b[43m(\u001b[49m\u001b[43m)\u001b[49m\n\u001b[1;32m   1846\u001b[0m         retry \u001b[38;5;241m-\u001b[39m\u001b[38;5;241m=\u001b[39m \u001b[38;5;241m1\u001b[39m\n\u001b[1;32m   1847\u001b[0m         length \u001b[38;5;241m=\u001b[39m \u001b[38;5;28mlen\u001b[39m(tempbuf)\n",
      "File \u001b[0;32m~/.local/lib/python3.10/site-packages/pyftdi/ftdi.py:2096\u001b[0m, in \u001b[0;36mFtdi._read\u001b[0;34m(self)\u001b[0m\n\u001b[1;32m   2094\u001b[0m \u001b[38;5;28;01mdef\u001b[39;00m \u001b[38;5;21m_read\u001b[39m(\u001b[38;5;28mself\u001b[39m) \u001b[38;5;241m-\u001b[39m\u001b[38;5;241m>\u001b[39m \u001b[38;5;28mbytes\u001b[39m:\n\u001b[1;32m   2095\u001b[0m     \u001b[38;5;28;01mtry\u001b[39;00m:\n\u001b[0;32m-> 2096\u001b[0m         data \u001b[38;5;241m=\u001b[39m \u001b[38;5;28;43mself\u001b[39;49m\u001b[38;5;241;43m.\u001b[39;49m\u001b[43m_usb_dev\u001b[49m\u001b[38;5;241;43m.\u001b[39;49m\u001b[43mread\u001b[49m\u001b[43m(\u001b[49m\u001b[38;5;28;43mself\u001b[39;49m\u001b[38;5;241;43m.\u001b[39;49m\u001b[43m_out_ep\u001b[49m\u001b[43m,\u001b[49m\u001b[43m \u001b[49m\u001b[38;5;28;43mself\u001b[39;49m\u001b[38;5;241;43m.\u001b[39;49m\u001b[43m_readbuffer_chunksize\u001b[49m\u001b[43m,\u001b[49m\n\u001b[1;32m   2097\u001b[0m \u001b[43m                                  \u001b[49m\u001b[38;5;28;43mself\u001b[39;49m\u001b[38;5;241;43m.\u001b[39;49m\u001b[43m_usb_read_timeout\u001b[49m\u001b[43m)\u001b[49m\n\u001b[1;32m   2098\u001b[0m     \u001b[38;5;28;01mexcept\u001b[39;00m USBError \u001b[38;5;28;01mas\u001b[39;00m ex:\n\u001b[1;32m   2099\u001b[0m         \u001b[38;5;28;01mraise\u001b[39;00m FtdiError(\u001b[38;5;124m'\u001b[39m\u001b[38;5;124mUsbError: \u001b[39m\u001b[38;5;132;01m%s\u001b[39;00m\u001b[38;5;124m'\u001b[39m \u001b[38;5;241m%\u001b[39m \u001b[38;5;28mstr\u001b[39m(ex)) \u001b[38;5;28;01mfrom\u001b[39;00m \u001b[38;5;28mNone\u001b[39m\n",
      "File \u001b[0;32m~/.local/lib/python3.10/site-packages/usb/core.py:1029\u001b[0m, in \u001b[0;36mDevice.read\u001b[0;34m(self, endpoint, size_or_buffer, timeout)\u001b[0m\n\u001b[1;32m   1026\u001b[0m \u001b[38;5;28;01melse\u001b[39;00m: \u001b[38;5;66;03m# here we consider it is a integer\u001b[39;00m\n\u001b[1;32m   1027\u001b[0m     buff \u001b[38;5;241m=\u001b[39m util\u001b[38;5;241m.\u001b[39mcreate_buffer(size_or_buffer)\n\u001b[0;32m-> 1029\u001b[0m ret \u001b[38;5;241m=\u001b[39m \u001b[43mfn\u001b[49m\u001b[43m(\u001b[49m\n\u001b[1;32m   1030\u001b[0m \u001b[43m        \u001b[49m\u001b[38;5;28;43mself\u001b[39;49m\u001b[38;5;241;43m.\u001b[39;49m\u001b[43m_ctx\u001b[49m\u001b[38;5;241;43m.\u001b[39;49m\u001b[43mhandle\u001b[49m\u001b[43m,\u001b[49m\n\u001b[1;32m   1031\u001b[0m \u001b[43m        \u001b[49m\u001b[43mep\u001b[49m\u001b[38;5;241;43m.\u001b[39;49m\u001b[43mbEndpointAddress\u001b[49m\u001b[43m,\u001b[49m\n\u001b[1;32m   1032\u001b[0m \u001b[43m        \u001b[49m\u001b[43mintf\u001b[49m\u001b[38;5;241;43m.\u001b[39;49m\u001b[43mbInterfaceNumber\u001b[49m\u001b[43m,\u001b[49m\n\u001b[1;32m   1033\u001b[0m \u001b[43m        \u001b[49m\u001b[43mbuff\u001b[49m\u001b[43m,\u001b[49m\n\u001b[1;32m   1034\u001b[0m \u001b[43m        \u001b[49m\u001b[38;5;28;43mself\u001b[39;49m\u001b[38;5;241;43m.\u001b[39;49m\u001b[43m__get_timeout\u001b[49m\u001b[43m(\u001b[49m\u001b[43mtimeout\u001b[49m\u001b[43m)\u001b[49m\u001b[43m)\u001b[49m\n\u001b[1;32m   1036\u001b[0m \u001b[38;5;28;01mif\u001b[39;00m \u001b[38;5;28misinstance\u001b[39m(size_or_buffer, array\u001b[38;5;241m.\u001b[39marray):\n\u001b[1;32m   1037\u001b[0m     \u001b[38;5;28;01mreturn\u001b[39;00m ret\n",
      "File \u001b[0;32m~/.local/lib/python3.10/site-packages/usb/backend/libusb1.py:846\u001b[0m, in \u001b[0;36m_LibUSB.bulk_read\u001b[0;34m(self, dev_handle, ep, intf, buff, timeout)\u001b[0m\n\u001b[1;32m    844\u001b[0m \u001b[38;5;129m@methodtrace\u001b[39m(_logger)\n\u001b[1;32m    845\u001b[0m \u001b[38;5;28;01mdef\u001b[39;00m \u001b[38;5;21mbulk_read\u001b[39m(\u001b[38;5;28mself\u001b[39m, dev_handle, ep, intf, buff, timeout):\n\u001b[0;32m--> 846\u001b[0m     \u001b[38;5;28;01mreturn\u001b[39;00m \u001b[38;5;28;43mself\u001b[39;49m\u001b[38;5;241;43m.\u001b[39;49m\u001b[43m__read\u001b[49m\u001b[43m(\u001b[49m\u001b[38;5;28;43mself\u001b[39;49m\u001b[38;5;241;43m.\u001b[39;49m\u001b[43mlib\u001b[49m\u001b[38;5;241;43m.\u001b[39;49m\u001b[43mlibusb_bulk_transfer\u001b[49m\u001b[43m,\u001b[49m\n\u001b[1;32m    847\u001b[0m \u001b[43m                       \u001b[49m\u001b[43mdev_handle\u001b[49m\u001b[43m,\u001b[49m\n\u001b[1;32m    848\u001b[0m \u001b[43m                       \u001b[49m\u001b[43mep\u001b[49m\u001b[43m,\u001b[49m\n\u001b[1;32m    849\u001b[0m \u001b[43m                       \u001b[49m\u001b[43mintf\u001b[49m\u001b[43m,\u001b[49m\n\u001b[1;32m    850\u001b[0m \u001b[43m                       \u001b[49m\u001b[43mbuff\u001b[49m\u001b[43m,\u001b[49m\n\u001b[1;32m    851\u001b[0m \u001b[43m                       \u001b[49m\u001b[43mtimeout\u001b[49m\u001b[43m)\u001b[49m\n",
      "File \u001b[0;32m~/.local/lib/python3.10/site-packages/usb/backend/libusb1.py:946\u001b[0m, in \u001b[0;36m_LibUSB.__read\u001b[0;34m(self, fn, dev_handle, ep, intf, buff, timeout)\u001b[0m\n\u001b[1;32m    944\u001b[0m length \u001b[38;5;241m*\u001b[39m\u001b[38;5;241m=\u001b[39m buff\u001b[38;5;241m.\u001b[39mitemsize\n\u001b[1;32m    945\u001b[0m transferred \u001b[38;5;241m=\u001b[39m c_int()\n\u001b[0;32m--> 946\u001b[0m retval \u001b[38;5;241m=\u001b[39m \u001b[43mfn\u001b[49m\u001b[43m(\u001b[49m\u001b[43mdev_handle\u001b[49m\u001b[38;5;241;43m.\u001b[39;49m\u001b[43mhandle\u001b[49m\u001b[43m,\u001b[49m\n\u001b[1;32m    947\u001b[0m \u001b[43m          \u001b[49m\u001b[43mep\u001b[49m\u001b[43m,\u001b[49m\n\u001b[1;32m    948\u001b[0m \u001b[43m          \u001b[49m\u001b[43mcast\u001b[49m\u001b[43m(\u001b[49m\u001b[43maddress\u001b[49m\u001b[43m,\u001b[49m\u001b[43m \u001b[49m\u001b[43mPOINTER\u001b[49m\u001b[43m(\u001b[49m\u001b[43mc_ubyte\u001b[49m\u001b[43m)\u001b[49m\u001b[43m)\u001b[49m\u001b[43m,\u001b[49m\n\u001b[1;32m    949\u001b[0m \u001b[43m          \u001b[49m\u001b[43mlength\u001b[49m\u001b[43m,\u001b[49m\n\u001b[1;32m    950\u001b[0m \u001b[43m          \u001b[49m\u001b[43mbyref\u001b[49m\u001b[43m(\u001b[49m\u001b[43mtransferred\u001b[49m\u001b[43m)\u001b[49m\u001b[43m,\u001b[49m\n\u001b[1;32m    951\u001b[0m \u001b[43m          \u001b[49m\u001b[43mtimeout\u001b[49m\u001b[43m)\u001b[49m\n\u001b[1;32m    952\u001b[0m \u001b[38;5;66;03m# do not assume LIBUSB_ERROR_TIMEOUT means no I/O.\u001b[39;00m\n\u001b[1;32m    953\u001b[0m \u001b[38;5;28;01mif\u001b[39;00m \u001b[38;5;129;01mnot\u001b[39;00m (transferred\u001b[38;5;241m.\u001b[39mvalue \u001b[38;5;129;01mand\u001b[39;00m retval \u001b[38;5;241m==\u001b[39m LIBUSB_ERROR_TIMEOUT):\n",
      "\u001b[0;31mKeyboardInterrupt\u001b[0m: "
     ]
    }
   ],
   "source": [
    "data = port.read(1)\n",
    "data"
   ]
  },
  {
   "cell_type": "code",
   "execution_count": null,
   "id": "da821036",
   "metadata": {},
   "outputs": [],
   "source": [
    "port.close()"
   ]
  }
 ],
 "metadata": {
  "kernelspec": {
   "display_name": "Python 3 (ipykernel)",
   "language": "python",
   "name": "python3"
  },
  "language_info": {
   "codemirror_mode": {
    "name": "ipython",
    "version": 3
   },
   "file_extension": ".py",
   "mimetype": "text/x-python",
   "name": "python",
   "nbconvert_exporter": "python",
   "pygments_lexer": "ipython3",
   "version": "3.10.12"
  }
 },
 "nbformat": 4,
 "nbformat_minor": 5
}
