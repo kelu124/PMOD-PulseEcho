{
 "cells": [
  {
   "cell_type": "code",
   "execution_count": 29,
   "id": "c7981931",
   "metadata": {},
   "outputs": [
    {
     "data": {
      "text/plain": [
       "'echo -n 2-1:1.0 | sudo tee /sys/bus/usb/drivers/ftdi_sio/unbind'"
      ]
     },
     "execution_count": 29,
     "metadata": {},
     "output_type": "execute_result"
    }
   ],
   "source": [
    "# Successfully installed ftd2xx-1.3.5 install-1.3.5 --> worked\n",
    "# Then issue with libftd2xx.so: cannot open shared object file: No such file or directory\n",
    "\n",
    "\"\"\"/:  Bus 02.Port 1: Dev 1, Class=root_hub, Driver=xhci_hcd/11p, 480M\n",
    "    |__ Port 1: Dev 2, If 0, Class=Vendor Specific Class, Driver=ftdi_sio, 480M\n",
    "    |__ Port 1: Dev 2, If 1, Class=Vendor Specific Class, Driver=ftdi_sio, 480M\"\"\"\n",
    "\n",
    "\"\"\"echo -n 2-1:1.0 | sudo tee /sys/bus/usb/drivers/ftdi_sio/unbind\"\"\"\n",
    "\"\"\"echo -n 2-1:1.1 | sudo tee /sys/bus/usb/drivers/ftdi_sio/unbind\"\"\""
   ]
  },
  {
   "cell_type": "code",
   "execution_count": 30,
   "id": "c0295aa7",
   "metadata": {},
   "outputs": [],
   "source": [
    "import sys\n",
    "import random\n",
    "from time import sleep\n",
    "BLOCK_LEN = 512"
   ]
  },
  {
   "cell_type": "code",
   "execution_count": 57,
   "id": "283247eb",
   "metadata": {},
   "outputs": [
    {
     "data": {
      "text/plain": [
       "[b'ibIeBkI8A', b'ibIeBkI8B']"
      ]
     },
     "execution_count": 57,
     "metadata": {},
     "output_type": "execute_result"
    }
   ],
   "source": [
    "import ftd2xx as ft\n",
    "devs = ft.listDevices()\n",
    "devs"
   ]
  },
  {
   "cell_type": "code",
   "execution_count": 58,
   "id": "7bcfd33f",
   "metadata": {},
   "outputs": [
    {
     "name": "stdout",
     "output_type": "stream",
     "text": [
      "{'index': 0, 'flags': 2, 'type': 6, 'id': 67330064, 'location': 8289, 'serial': b'ibIeBkI8A', 'description': b'iCEBreaker V1.0e A', 'handle': <ftd2xx._ftd2xx_linux.LP_c_ulong object at 0x7efc646bce40>}\n",
      "{'index': 1, 'flags': 3, 'type': 6, 'id': 67330064, 'location': 8290, 'serial': b'ibIeBkI8B', 'description': b'iCEBreaker V1.0e B', 'handle': <ftd2xx._ftd2xx_linux.LP_c_ulong object at 0x7efc646bcf40>}\n"
     ]
    }
   ],
   "source": [
    "n = ft.createDeviceInfoList()\n",
    "\n",
    "for index in range(0, n):\n",
    "    device_info = ft.getDeviceInfoDetail(devnum = index, update = False)\n",
    "    print(device_info)"
   ]
  },
  {
   "cell_type": "code",
   "execution_count": 59,
   "id": "37dc245c",
   "metadata": {},
   "outputs": [
    {
     "ename": "DeviceError",
     "evalue": "DEVICE_NOT_OPENED",
     "output_type": "error",
     "traceback": [
      "\u001b[0;31m---------------------------------------------------------------------------\u001b[0m",
      "\u001b[0;31mDeviceError\u001b[0m                               Traceback (most recent call last)",
      "Cell \u001b[0;32mIn[59], line 1\u001b[0m\n\u001b[0;32m----> 1\u001b[0m d \u001b[38;5;241m=\u001b[39m \u001b[43mft\u001b[49m\u001b[38;5;241;43m.\u001b[39;49m\u001b[43mopen\u001b[49m\u001b[43m(\u001b[49m\u001b[43mdev\u001b[49m\u001b[43m \u001b[49m\u001b[38;5;241;43m=\u001b[39;49m\u001b[43m \u001b[49m\u001b[38;5;241;43m1\u001b[39;49m\u001b[43m)\u001b[49m\n",
      "File \u001b[0;32m~/.local/lib/python3.10/site-packages/ftd2xx/ftd2xx.py:276\u001b[0m, in \u001b[0;36mopen\u001b[0;34m(dev, update)\u001b[0m\n\u001b[1;32m    258\u001b[0m \u001b[38;5;124;03m\"\"\"Open a handle to a usb device by index and return an FTD2XX instance for\u001b[39;00m\n\u001b[1;32m    259\u001b[0m \u001b[38;5;124;03mit. Set update to False to avoid a slow call to createDeviceInfoList.\u001b[39;00m\n\u001b[1;32m    260\u001b[0m \n\u001b[0;32m   (...)\u001b[0m\n\u001b[1;32m    273\u001b[0m \u001b[38;5;124;03m        dev.write(b\"Hello World\")\u001b[39;00m\n\u001b[1;32m    274\u001b[0m \u001b[38;5;124;03m\"\"\"\u001b[39;00m\n\u001b[1;32m    275\u001b[0m h \u001b[38;5;241m=\u001b[39m _ft\u001b[38;5;241m.\u001b[39mFT_HANDLE()\n\u001b[0;32m--> 276\u001b[0m \u001b[43mcall_ft\u001b[49m\u001b[43m(\u001b[49m\u001b[43m_ft\u001b[49m\u001b[38;5;241;43m.\u001b[39;49m\u001b[43mFT_Open\u001b[49m\u001b[43m,\u001b[49m\u001b[43m \u001b[49m\u001b[43mdev\u001b[49m\u001b[43m,\u001b[49m\u001b[43m \u001b[49m\u001b[43mc\u001b[49m\u001b[38;5;241;43m.\u001b[39;49m\u001b[43mbyref\u001b[49m\u001b[43m(\u001b[49m\u001b[43mh\u001b[49m\u001b[43m)\u001b[49m\u001b[43m)\u001b[49m\n\u001b[1;32m    277\u001b[0m \u001b[38;5;28;01mreturn\u001b[39;00m FTD2XX(h, update\u001b[38;5;241m=\u001b[39mupdate)\n",
      "File \u001b[0;32m~/.local/lib/python3.10/site-packages/ftd2xx/ftd2xx.py:179\u001b[0m, in \u001b[0;36mcall_ft\u001b[0;34m(function, *args)\u001b[0m\n\u001b[1;32m    177\u001b[0m status \u001b[38;5;241m=\u001b[39m function(\u001b[38;5;241m*\u001b[39margs)\n\u001b[1;32m    178\u001b[0m \u001b[38;5;28;01mif\u001b[39;00m status \u001b[38;5;241m!=\u001b[39m defines\u001b[38;5;241m.\u001b[39mStatus\u001b[38;5;241m.\u001b[39mOK:\n\u001b[0;32m--> 179\u001b[0m     \u001b[38;5;28;01mraise\u001b[39;00m DeviceError(status)\n",
      "\u001b[0;31mDeviceError\u001b[0m: DEVICE_NOT_OPENED"
     ]
    }
   ],
   "source": [
    " d = ft.open(dev = 1)"
   ]
  },
  {
   "cell_type": "code",
   "execution_count": 34,
   "id": "64fa2986",
   "metadata": {},
   "outputs": [
    {
     "name": "stdout",
     "output_type": "stream",
     "text": [
      "{'type': 6, 'id': 67330064, 'description': b'iCEBreaker V1.0e B', 'serial': b'ibIeBkI8B'}\n"
     ]
    }
   ],
   "source": [
    "print(d.getDeviceInfo())\n",
    "d.setBitMode(0xFF, 0x00)               # Reset mode\n",
    "sleep(.01)"
   ]
  },
  {
   "cell_type": "code",
   "execution_count": 35,
   "id": "41b51fbd",
   "metadata": {},
   "outputs": [],
   "source": [
    "sleep(.01)\n",
    "d.setBitMode(0xFF,0x1)               # Sync FIFO mode - see https://www.ftdichip.com/Support/Knowledgebase/index.html?ft_setbitmode.htm\n",
    "sleep(.01)\n",
    "d.setLatencyTimer(2)                   # Receive buffer timeout in msec\n",
    "sleep(.01)\n",
    "d.setUSBParameters(512, 512)         # Set transfer in/out size to 4096\n",
    "sleep(.01)\n",
    "d.setFlowControl(ft.defines.FLOW_RTS_CTS, 0, 0)   # Flow control method\n",
    "sleep(.01)"
   ]
  },
  {
   "cell_type": "markdown",
   "id": "d404a58a",
   "metadata": {},
   "source": [
    "* I've implemented Async FIFO Loopback.\n",
    "* Write 0x7X - 1byte. (7:4 bits opcode = 7=LOOPBACK; 3:0 bits data)\n",
    "* Then read 1byte, written byte should come back."
   ]
  },
  {
   "cell_type": "code",
   "execution_count": null,
   "id": "566f192a",
   "metadata": {},
   "outputs": [],
   "source": [
    "Arra"
   ]
  },
  {
   "cell_type": "code",
   "execution_count": 56,
   "id": "523b16f5",
   "metadata": {},
   "outputs": [
    {
     "ename": "TypeError",
     "evalue": "FTD2XX.write() missing 1 required positional argument: 'data'",
     "output_type": "error",
     "traceback": [
      "\u001b[0;31m---------------------------------------------------------------------------\u001b[0m",
      "\u001b[0;31mTypeError\u001b[0m                                 Traceback (most recent call last)",
      "Cell \u001b[0;32mIn[56], line 1\u001b[0m\n\u001b[0;32m----> 1\u001b[0m wr \u001b[38;5;241m=\u001b[39m \u001b[43md\u001b[49m\u001b[38;5;241;43m.\u001b[39;49m\u001b[43mwrite\u001b[49m\u001b[43m(\u001b[49m\u001b[43m)\u001b[49m\n\u001b[1;32m      2\u001b[0m \u001b[38;5;28mprint\u001b[39m(wr)\n\u001b[1;32m      3\u001b[0m rx_data \u001b[38;5;241m=\u001b[39m d\u001b[38;5;241m.\u001b[39mread(\u001b[38;5;241m1\u001b[39m)\n",
      "\u001b[0;31mTypeError\u001b[0m: FTD2XX.write() missing 1 required positional argument: 'data'"
     ]
    }
   ],
   "source": [
    "wr = d.write()\n",
    "print(wr)\n",
    "rx_data = d.read(1)\n",
    "rx_data"
   ]
  },
  {
   "cell_type": "code",
   "execution_count": 54,
   "id": "4077d612",
   "metadata": {},
   "outputs": [
    {
     "data": {
      "text/plain": [
       "\"b'5'\""
      ]
     },
     "execution_count": 54,
     "metadata": {},
     "output_type": "execute_result"
    }
   ],
   "source": []
  },
  {
   "cell_type": "code",
   "execution_count": 28,
   "id": "4d02e407",
   "metadata": {},
   "outputs": [],
   "source": [
    "d.close()"
   ]
  }
 ],
 "metadata": {
  "kernelspec": {
   "display_name": "Python 3 (ipykernel)",
   "language": "python",
   "name": "python3"
  },
  "language_info": {
   "codemirror_mode": {
    "name": "ipython",
    "version": 3
   },
   "file_extension": ".py",
   "mimetype": "text/x-python",
   "name": "python",
   "nbconvert_exporter": "python",
   "pygments_lexer": "ipython3",
   "version": "3.10.12"
  }
 },
 "nbformat": 4,
 "nbformat_minor": 5
}
