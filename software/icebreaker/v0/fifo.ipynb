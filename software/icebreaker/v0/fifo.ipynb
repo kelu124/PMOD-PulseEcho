{
 "cells": [
  {
   "cell_type": "code",
   "execution_count": 35,
   "id": "c7981931",
   "metadata": {},
   "outputs": [
    {
     "data": {
      "text/plain": [
       "'echo -n 2-1:1.0 | sudo tee /sys/bus/usb/drivers/ftdi_sio/unbind'"
      ]
     },
     "execution_count": 35,
     "metadata": {},
     "output_type": "execute_result"
    }
   ],
   "source": [
    "# Successfully installed ftd2xx-1.3.5 install-1.3.5 --> worked\n",
    "# Then issue with libftd2xx.so: cannot open shared object file: No such file or directory\n",
    "\n",
    "\"\"\"/:  Bus 02.Port 1: Dev 1, Class=root_hub, Driver=xhci_hcd/11p, 480M\n",
    "    |__ Port 1: Dev 2, If 0, Class=Vendor Specific Class, Driver=ftdi_sio, 480M\n",
    "    |__ Port 1: Dev 2, If 1, Class=Vendor Specific Class, Driver=ftdi_sio, 480M\"\"\"\n",
    "\n",
    "\"\"\"echo -n 2-1:1.0 | sudo tee /sys/bus/usb/drivers/ftdi_sio/unbind\"\"\""
   ]
  },
  {
   "cell_type": "code",
   "execution_count": 188,
   "id": "c0295aa7",
   "metadata": {},
   "outputs": [],
   "source": [
    "import sys\n",
    "import random\n",
    "from time import sleep\n",
    "BLOCK_LEN = 512"
   ]
  },
  {
   "cell_type": "code",
   "execution_count": 189,
   "id": "283247eb",
   "metadata": {},
   "outputs": [
    {
     "data": {
      "text/plain": [
       "[b'ibIeBkI8A', b'ibIeBkI8B']"
      ]
     },
     "execution_count": 189,
     "metadata": {},
     "output_type": "execute_result"
    }
   ],
   "source": [
    "import ftd2xx as ft\n",
    "devs = ft.listDevices()\n",
    "devs"
   ]
  },
  {
   "cell_type": "code",
   "execution_count": 190,
   "id": "7bcfd33f",
   "metadata": {},
   "outputs": [
    {
     "name": "stdout",
     "output_type": "stream",
     "text": [
      "{'index': 0, 'flags': 2, 'type': 6, 'id': 67330064, 'location': 8241, 'serial': b'ibIeBkI8A', 'description': b'iCEBreaker V1.0e A', 'handle': <ftd2xx._ftd2xx_linux.LP_c_ulong object at 0x7f034865c140>}\n",
      "{'index': 1, 'flags': 2, 'type': 6, 'id': 67330064, 'location': 8242, 'serial': b'ibIeBkI8B', 'description': b'iCEBreaker V1.0e B', 'handle': <ftd2xx._ftd2xx_linux.LP_c_ulong object at 0x7f0348621040>}\n"
     ]
    }
   ],
   "source": [
    "n = ft.createDeviceInfoList()\n",
    "\n",
    "for index in range(0, n):\n",
    "    device_info = ft.getDeviceInfoDetail(devnum = index, update = False)\n",
    "    print(device_info)"
   ]
  },
  {
   "cell_type": "code",
   "execution_count": 268,
   "id": "37dc245c",
   "metadata": {},
   "outputs": [],
   "source": [
    " d = ft.open(dev = 0)"
   ]
  },
  {
   "cell_type": "code",
   "execution_count": 269,
   "id": "64fa2986",
   "metadata": {},
   "outputs": [
    {
     "name": "stdout",
     "output_type": "stream",
     "text": [
      "{'type': 6, 'id': 67330064, 'description': b'iCEBreaker V1.0e A', 'serial': b'ibIeBkI8A'}\n"
     ]
    }
   ],
   "source": [
    "print(d.getDeviceInfo())\n",
    "d.setBitMode(0xFF, 0x00)               # Reset mode\n",
    "sleep(.01)"
   ]
  },
  {
   "cell_type": "code",
   "execution_count": 270,
   "id": "41b51fbd",
   "metadata": {},
   "outputs": [],
   "source": [
    "sleep(.01)\n",
    "d.setBitMode(0xFF,0x1)               # Sync FIFO mode - see https://www.ftdichip.com/Support/Knowledgebase/index.html?ft_setbitmode.htm\n",
    "sleep(.01)\n",
    "d.setLatencyTimer(2)                   # Receive buffer timeout in msec\n",
    "sleep(.01)\n",
    "d.setUSBParameters(2048, 2048)         # Set transfer in/out size to 4096\n",
    "sleep(.01)\n",
    "d.setFlowControl(ft.defines.FLOW_RTS_CTS, 0, 0)   # Flow control method\n",
    "sleep(.01)"
   ]
  },
  {
   "cell_type": "markdown",
   "id": "d404a58a",
   "metadata": {},
   "source": [
    "* I've implemented Async FIFO Loopback.\n",
    "* Write 0x7X - 1byte. (7:4 bits opcode = 7=LOOPBACK; 3:0 bits data)\n",
    "* Then read 1byte, written byte should come back."
   ]
  },
  {
   "cell_type": "code",
   "execution_count": 271,
   "id": "523b16f5",
   "metadata": {},
   "outputs": [],
   "source": [
    "wr = d.write(str(0x70))\n",
    "B  = d.write(str(0x7))"
   ]
  },
  {
   "cell_type": "code",
   "execution_count": 272,
   "id": "4077d612",
   "metadata": {},
   "outputs": [
    {
     "data": {
      "text/plain": [
       "'7'"
      ]
     },
     "execution_count": 272,
     "metadata": {},
     "output_type": "execute_result"
    }
   ],
   "source": [
    "rx_data = d.read(1)\n",
    "rx_data.decode('utf-8')"
   ]
  },
  {
   "cell_type": "code",
   "execution_count": 267,
   "id": "4d02e407",
   "metadata": {},
   "outputs": [],
   "source": [
    "d.close()"
   ]
  }
 ],
 "metadata": {
  "kernelspec": {
   "display_name": "Python 3 (ipykernel)",
   "language": "python",
   "name": "python3"
  },
  "language_info": {
   "codemirror_mode": {
    "name": "ipython",
    "version": 3
   },
   "file_extension": ".py",
   "mimetype": "text/x-python",
   "name": "python",
   "nbconvert_exporter": "python",
   "pygments_lexer": "ipython3",
   "version": "3.10.12"
  }
 },
 "nbformat": 4,
 "nbformat_minor": 5
}
